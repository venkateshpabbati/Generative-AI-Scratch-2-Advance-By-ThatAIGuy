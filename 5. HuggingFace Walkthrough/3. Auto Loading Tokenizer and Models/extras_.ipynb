{
 "cells": [
  {
   "cell_type": "markdown",
   "id": "0c8ba832-0062-4b0b-8ba7-3ac8a46b44df",
   "metadata": {},
   "source": [
    "## **Building the Summarization Pipeline**\n",
    "\n",
    "Recall the `xsum` dataset from the **Summarization** section before.\n",
    "\n",
    "**Steps**\n",
    "1. Load the data\n",
    "```python\n",
    "from datasets import load_dataset\n",
    "\n",
    "dataset = load_dataset('xsum')\n",
    "```\n",
    "2. Define the pipeline by specifying the task and model\n",
    "```python\n",
    "from transformers import pipeline\n",
    "\n",
    "summarizer = pipeline(\n",
    "                task=\"summarization\",\n",
    "                model=\"t5-small\"\n",
    ")\n",
    "```\n",
    "3. Use `summarizer` to summarize the articles\n",
    "```python\n",
    "summarizer(article)\n",
    "```"
   ]
  },
  {
   "cell_type": "code",
   "execution_count": 1,
   "id": "527f0462-e2f8-442b-adfb-6e57afbf1e85",
   "metadata": {},
   "outputs": [
    {
     "name": "stderr",
     "output_type": "stream",
     "text": [
      "/Users/kanavbansal/Developer/.env_jupyter/lib/python3.9/site-packages/urllib3/__init__.py:35: NotOpenSSLWarning: urllib3 v2 only supports OpenSSL 1.1.1+, currently the 'ssl' module is compiled with 'LibreSSL 2.8.3'. See: https://github.com/urllib3/urllib3/issues/3020\n",
      "  warnings.warn(\n"
     ]
    },
    {
     "data": {
      "application/vnd.jupyter.widget-view+json": {
       "model_id": "428f08b2aa2c4e5ba0413979fdedb913",
       "version_major": 2,
       "version_minor": 0
      },
      "text/plain": [
       "Downloading builder script:   0%|          | 0.00/5.76k [00:00<?, ?B/s]"
      ]
     },
     "metadata": {},
     "output_type": "display_data"
    },
    {
     "data": {
      "application/vnd.jupyter.widget-view+json": {
       "model_id": "42ad82cb447548c9a61e927f2504524a",
       "version_major": 2,
       "version_minor": 0
      },
      "text/plain": [
       "Downloading readme:   0%|          | 0.00/6.24k [00:00<?, ?B/s]"
      ]
     },
     "metadata": {},
     "output_type": "display_data"
    }
   ],
   "source": [
    "# Step 1 - Load the dataset\n",
    "\n",
    "from datasets import load_dataset\n",
    "\n",
    "xsum_dataset = load_dataset('xsum')"
   ]
  },
  {
   "cell_type": "code",
   "execution_count": 2,
   "id": "7bff1170-b3c0-4e17-bb03-65b42fac1616",
   "metadata": {},
   "outputs": [
    {
     "data": {
      "text/plain": [
       "Dataset({\n",
       "    features: ['document', 'summary', 'id'],\n",
       "    num_rows: 10\n",
       "})"
      ]
     },
     "execution_count": 2,
     "metadata": {},
     "output_type": "execute_result"
    }
   ],
   "source": [
    "xsum_sample = xsum_dataset['train'].select(range(10))\n",
    "\n",
    "xsum_sample"
   ]
  },
  {
   "cell_type": "code",
   "execution_count": 3,
   "id": "f36529ad-a438-49e8-a077-375f11e70062",
   "metadata": {},
   "outputs": [
    {
     "name": "stderr",
     "output_type": "stream",
     "text": [
      "Hardware accelerator e.g. GPU is available in the environment, but no `device` argument is passed to the `Pipeline` object. Model will be on CPU.\n"
     ]
    }
   ],
   "source": [
    "# Step 2 - Define the pipeline by specifying the task and model\n",
    "\n",
    "from transformers import pipeline\n",
    "\n",
    "summarizer = pipeline(\n",
    "                task=\"summarization\",\n",
    "                model=\"t5-small\",\n",
    "                truncation=True\n",
    ")\n",
    "\n",
    "# If we donot set truncation=True, we get the following warning during inference:\n",
    "# Token indices sequence length is longer than the specified maximum \n",
    "# sequence length for this model (541 > 512). Running this sequence \n",
    "# through the model will result in indexing errors"
   ]
  },
  {
   "cell_type": "code",
   "execution_count": 4,
   "id": "a837c805-45ac-441c-8a47-8ca099ae44a1",
   "metadata": {},
   "outputs": [
    {
     "data": {
      "text/plain": [
       "[{'summary_text': 'the full cost of damage in Newton Stewart is still being assessed . many roads in peeblesshire remain badly affected by standing water . the water breached a retaining wall, flooding many commercial properties .'}]"
      ]
     },
     "execution_count": 4,
     "metadata": {},
     "output_type": "execute_result"
    }
   ],
   "source": [
    "# Step 3 - Use summarizer to summarize the articles\n",
    "\n",
    "summarizer(xsum_sample[\"document\"][0], do_sample=True, top_k=10, top_p=0.8)"
   ]
  },
  {
   "cell_type": "code",
   "execution_count": null,
   "id": "8c22868b-6678-4c7c-a74d-55460fefd6d1",
   "metadata": {},
   "outputs": [],
   "source": []
  }
 ],
 "metadata": {
  "kernelspec": {
   "display_name": "Python 3 (ipykernel)",
   "language": "python",
   "name": "python3"
  },
  "language_info": {
   "codemirror_mode": {
    "name": "ipython",
    "version": 3
   },
   "file_extension": ".py",
   "mimetype": "text/x-python",
   "name": "python",
   "nbconvert_exporter": "python",
   "pygments_lexer": "ipython3",
   "version": "3.9.6"
  }
 },
 "nbformat": 4,
 "nbformat_minor": 5
}
