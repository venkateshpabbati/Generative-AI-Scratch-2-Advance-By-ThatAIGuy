{
 "cells": [
  {
   "cell_type": "markdown",
   "id": "9aa27fa5-cc2c-4a75-97c7-a26092314a40",
   "metadata": {},
   "source": [
    "# **Introduction to Type Annotations**\n",
    "\n",
    "## **What's Covered?**\n",
    "1. What is the typing module?\n",
    "2. Basic Typing Concepts\n",
    "3. Built-in Collections\n",
    "4. TypedDict (Typed Dictionaries)\n",
    "5. Union Types (Multiple Possibilities)\n",
    "6. Optional Types (may be None)\n",
    "7. Any\n",
    "\n",
    "## **What is the typing module?**\n",
    "The typing module allows you to add type hints to Python code. Python is a dynamically typed language, but type hints make your code:\n",
    "1. Easier to understand and enhance readability\n",
    "2. Type Safety i.e. we define explicitly the data types reducing runtime errors\n",
    "3. More developer-friendly because IDEs provide better auto-complete and error detection (with autocomplete, linting, etc.)\n",
    "\n",
    "This is essential if you're writing clean, maintainable, and scalable code, especially in teams or when building large projects."
   ]
  },
  {
   "cell_type": "markdown",
   "id": "91d0169f-6461-4bac-ad37-a05e798943c9",
   "metadata": {},
   "source": [
    "## **Basic Typing Concepts**\n",
    "\n",
    "You can specify the expected type for a variable. This doesn't affect runtime behavior but helps tools like mypy or IDE type checkers ensure correctness."
   ]
  },
  {
   "cell_type": "code",
   "execution_count": 6,
   "id": "8158b183-ef81-42e5-b652-093b55654d52",
   "metadata": {},
   "outputs": [
    {
     "name": "stdout",
     "output_type": "stream",
     "text": [
      "Age: 25\n",
      "Active? True\n"
     ]
    }
   ],
   "source": [
    "age: int = 25\n",
    "is_active: bool = True\n",
    "\n",
    "print(\"Age:\", age)\n",
    "print(\"Active?\", is_active)"
   ]
  },
  {
   "cell_type": "markdown",
   "id": "36477925-5002-4fe6-9b02-00a5707fb8ad",
   "metadata": {},
   "source": [
    "## **Built-in Collections**\n",
    "\n",
    "Python has built-in collections like list, dict, tuple, etc. The typing module lets you specify what type of items these collections hold."
   ]
  },
  {
   "cell_type": "code",
   "execution_count": 2,
   "id": "6d94c75e-907d-4a0f-8a27-471737570dc3",
   "metadata": {},
   "outputs": [],
   "source": [
    "from typing import List, Dict, Tuple, Set\n",
    "\n",
    "names: List[str] = [\"Alice\", \"Bob\"]\n",
    "scores: Dict[str, int] = {\"math\": 90}\n",
    "coordinates: Tuple[float, float] = (10.0, 20.0)\n",
    "unique_ids: Set[int] = {1, 2, 3}\n",
    "\n",
    "# Nested Collection\n",
    "matrix: List[List[int]] = [\n",
    "    [1, 2],\n",
    "    [3, 4]\n",
    "]"
   ]
  },
  {
   "cell_type": "markdown",
   "id": "aee5ab96-551f-41be-ba65-27cc34d7b394",
   "metadata": {},
   "source": [
    "## **TypedDict (Typed Dictionaries)**\n",
    "\n",
    "TypedDict lets you define dictionaries with a fixed structure, similar to a record or a struct.\n",
    "\n",
    "Safer alternative to plain Dict[str, Any] as it enforces keys and their value types"
   ]
  },
  {
   "cell_type": "code",
   "execution_count": 5,
   "id": "9823d6eb-1605-4b43-82e7-09261c25ee6a",
   "metadata": {},
   "outputs": [
    {
     "name": "stdout",
     "output_type": "stream",
     "text": [
      "{'name': 'ThatAIGuy', 'age': 2}\n"
     ]
    }
   ],
   "source": [
    "from typing import TypedDict\n",
    "\n",
    "class User(TypedDict):\n",
    "    name: str\n",
    "    age: int\n",
    "\n",
    "user = User(name=\"ThatAIGuy\", age=2)\n",
    "\n",
    "print(user)"
   ]
  },
  {
   "cell_type": "markdown",
   "id": "988537e4-5c55-485a-8b71-d3af8c372b5e",
   "metadata": {},
   "source": [
    "## **Union Types (Multiple Possibilities)**\n",
    "Union[X, Y] means a value can be of either type X or Y."
   ]
  },
  {
   "cell_type": "code",
   "execution_count": 8,
   "id": "299b221d-43db-4902-99c2-4800af87277e",
   "metadata": {},
   "outputs": [
    {
     "data": {
      "text/plain": [
       "4"
      ]
     },
     "execution_count": 8,
     "metadata": {},
     "output_type": "execute_result"
    }
   ],
   "source": [
    "from typing import Union\n",
    "\n",
    "def square(val: Union[int, float]) -> str:\n",
    "    return val * val\n",
    "\n",
    "x = 2\n",
    "square(x)"
   ]
  },
  {
   "cell_type": "markdown",
   "id": "0a5ab7dd-7908-4ddc-9091-7c35f22ff194",
   "metadata": {},
   "source": [
    "## **Optional Types (may be None)**\n",
    "Optional[X] is shorthand for Union[X, None]. It means the value can be X or None."
   ]
  },
  {
   "cell_type": "code",
   "execution_count": 5,
   "id": "751ee52e-881c-499c-bd3f-a9b68d225b4e",
   "metadata": {},
   "outputs": [
    {
     "name": "stdout",
     "output_type": "stream",
     "text": [
      "No user entered.\n"
     ]
    }
   ],
   "source": [
    "from typing import Optional\n",
    "\n",
    "def find_user(name: Optional[str]) -> None:\n",
    "    if name is None:\n",
    "        print(\"No user entered.\")\n",
    "    else:\n",
    "        print(f\"Found user {name}\")\n",
    "\n",
    "name = None\n",
    "find_user(name)"
   ]
  },
  {
   "cell_type": "markdown",
   "id": "7951e3ad-0d3c-43ca-b647-44230dd336b2",
   "metadata": {},
   "source": [
    "## **Any**\n",
    "\n",
    "Any tells the type checker to ignore type checking for that variable.\n",
    "\n",
    "It is useful When interacting with 3rd-party APIs or When parsing JSON/dynamic data."
   ]
  },
  {
   "cell_type": "code",
   "execution_count": 6,
   "id": "e9f119a5-caea-4442-ad59-642086485e7a",
   "metadata": {},
   "outputs": [
    {
     "name": "stdout",
     "output_type": "stream",
     "text": [
      "1\n"
     ]
    }
   ],
   "source": [
    "from typing import Any\n",
    "\n",
    "def log(value: Any) -> None:\n",
    "    print(value)\n",
    "\n",
    "value = 1\n",
    "log(value)"
   ]
  }
 ],
 "metadata": {
  "kernelspec": {
   "display_name": "Python 3 (ipykernel)",
   "language": "python",
   "name": "python3"
  },
  "language_info": {
   "codemirror_mode": {
    "name": "ipython",
    "version": 3
   },
   "file_extension": ".py",
   "mimetype": "text/x-python",
   "name": "python",
   "nbconvert_exporter": "python",
   "pygments_lexer": "ipython3",
   "version": "3.9.6"
  }
 },
 "nbformat": 4,
 "nbformat_minor": 5
}
