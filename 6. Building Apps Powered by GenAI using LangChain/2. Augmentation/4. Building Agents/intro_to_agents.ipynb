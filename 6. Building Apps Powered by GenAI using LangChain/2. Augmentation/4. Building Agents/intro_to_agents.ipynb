{
 "cells": [
  {
   "cell_type": "markdown",
   "id": "0c9781c1-c824-4032-acb2-b0f94d316580",
   "metadata": {},
   "source": [
    "# **Introduction to Building Agents**\n",
    "\n",
    "In this notebook we are going to first see how to build a basic agent.\n",
    "\n",
    "Later we will use LangGraph to build powerful agents."
   ]
  },
  {
   "cell_type": "markdown",
   "id": "120d13c3-8e5b-429e-befa-93af8537b794",
   "metadata": {},
   "source": [
    "## **Step 1 - Initializing a Large Language Model**"
   ]
  },
  {
   "cell_type": "code",
   "execution_count": 1,
   "id": "209e5ad5-339c-4f6e-b421-9eece8a5973b",
   "metadata": {},
   "outputs": [
    {
     "name": "stderr",
     "output_type": "stream",
     "text": [
      "/Users/kanavbansal/Developer/.env_jupyter/lib/python3.9/site-packages/urllib3/__init__.py:35: NotOpenSSLWarning: urllib3 v2 only supports OpenSSL 1.1.1+, currently the 'ssl' module is compiled with 'LibreSSL 2.8.3'. See: https://github.com/urllib3/urllib3/issues/3020\n",
      "  warnings.warn(\n"
     ]
    }
   ],
   "source": [
    "from langchain_openai import ChatOpenAI"
   ]
  },
  {
   "cell_type": "code",
   "execution_count": 2,
   "id": "87e1c61c-3f6b-4184-b43e-c94e8c97ed1b",
   "metadata": {},
   "outputs": [],
   "source": [
    "# Setup API Key\n",
    "\n",
    "f = open('keys/.openai_api_key.txt')\n",
    "\n",
    "OPENAI_API_KEY = f.read()"
   ]
  },
  {
   "cell_type": "code",
   "execution_count": 3,
   "id": "ae41ee02-0188-4a24-a59c-7c4823b44599",
   "metadata": {},
   "outputs": [
    {
     "name": "stdout",
     "output_type": "stream",
     "text": [
      "I don't have real-time capabilities to provide the current time. You can check the time on your device or through a search engine.\n"
     ]
    }
   ],
   "source": [
    "llm = ChatOpenAI(openai_api_key=OPENAI_API_KEY,\n",
    "                 model=\"gpt-4o-mini\",\n",
    "                 temperature=0.0)\n",
    "\n",
    "response = llm.invoke(\"What is the current time?\")\n",
    "\n",
    "print(response.content)"
   ]
  },
  {
   "cell_type": "code",
   "execution_count": 4,
   "id": "1141fba0-a9fe-4e92-b8bd-7e9a30800d74",
   "metadata": {},
   "outputs": [
    {
     "name": "stdout",
     "output_type": "stream",
     "text": [
      "As of my last update in October 2023, I do not have real-time information about current space missions or the status of astronauts. To find out if Sunita Williams is currently in space, I recommend checking the latest updates from NASA or other reliable space news sources.\n"
     ]
    }
   ],
   "source": [
    "llm = ChatOpenAI(openai_api_key=OPENAI_API_KEY,\n",
    "                 model=\"gpt-4o-mini\",\n",
    "                 temperature=0.0)\n",
    "\n",
    "response = llm.invoke(\"Is Sunita William currently in space?\")\n",
    "\n",
    "print(response.content)"
   ]
  },
  {
   "cell_type": "markdown",
   "id": "1a6fbec9-e1f9-469e-bac4-f7ca4bfe00f0",
   "metadata": {},
   "source": [
    "## **Step 2 - Initializing a Tool**"
   ]
  },
  {
   "cell_type": "code",
   "execution_count": 5,
   "id": "85e0d709-c7ba-49cd-99c2-b360ae896ac6",
   "metadata": {},
   "outputs": [
    {
     "data": {
      "text/plain": [
       "'The current date and time is 2025-03-12 16:18:00'"
      ]
     },
     "execution_count": 5,
     "metadata": {},
     "output_type": "execute_result"
    }
   ],
   "source": [
    "from langchain_core.tools import tool\n",
    "from datetime import datetime\n",
    "\n",
    "@tool\n",
    "def current_datetime():\n",
    "    \"\"\"This function tells the current date and time.\"\"\"\n",
    "    current_datetime = datetime.now().strftime(\"%Y-%m-%d %H:%M:%S\")\n",
    "    return f\"The current date and time is {current_datetime}\"\n",
    "\n",
    "current_datetime.invoke({})"
   ]
  },
  {
   "cell_type": "markdown",
   "id": "3d1f9724-da2e-4f58-a8b8-77fec03ae933",
   "metadata": {},
   "source": [
    "## **Step 3 - Init an Agent (i.e. Binding the Tool with a LLM)**"
   ]
  },
  {
   "cell_type": "code",
   "execution_count": 6,
   "id": "b8cf20fb-cdff-4c6d-be8c-a7c6aea4f03f",
   "metadata": {},
   "outputs": [
    {
     "data": {
      "text/plain": [
       "RunnableBinding(bound=ChatOpenAI(client=<openai.resources.chat.completions.Completions object at 0x114e80dc0>, async_client=<openai.resources.chat.completions.AsyncCompletions object at 0x114e9f790>, root_client=<openai.OpenAI object at 0x111b200d0>, root_async_client=<openai.AsyncOpenAI object at 0x114e80df0>, model_name='gpt-4o-mini', temperature=0.0, model_kwargs={}, openai_api_key=SecretStr('**********')), kwargs={'tools': [{'type': 'function', 'function': {'name': 'current_datetime', 'description': 'This function tells the current date and time.', 'parameters': {'properties': {}, 'type': 'object'}}}]}, config={}, config_factories=[])"
      ]
     },
     "execution_count": 6,
     "metadata": {},
     "output_type": "execute_result"
    }
   ],
   "source": [
    "llm_with_tool = llm.bind_tools([current_datetime])\n",
    "\n",
    "llm_with_tool"
   ]
  },
  {
   "cell_type": "code",
   "execution_count": 7,
   "id": "a6df8cf2-1b2e-4d11-a908-9f8c4dca5b45",
   "metadata": {},
   "outputs": [
    {
     "name": "stdout",
     "output_type": "stream",
     "text": [
      "Content: Hello! How can I assist you today?\n",
      "Tool Call: []\n"
     ]
    }
   ],
   "source": [
    "response = llm_with_tool.invoke(\"Hi\")\n",
    "\n",
    "print(f\"Content: {response.content}\")\n",
    "print(f\"Tool Call: {response.tool_calls}\")"
   ]
  },
  {
   "cell_type": "code",
   "execution_count": 8,
   "id": "620f55b6-78e7-4d64-bd3e-68266fed5af6",
   "metadata": {},
   "outputs": [
    {
     "name": "stdout",
     "output_type": "stream",
     "text": [
      "==================================\u001b[1m Ai Message \u001b[0m==================================\n",
      "\n",
      "Hello! How can I assist you today?\n"
     ]
    }
   ],
   "source": [
    "response.pretty_print()"
   ]
  },
  {
   "cell_type": "code",
   "execution_count": 9,
   "id": "38405dbc-52f7-4e26-952d-62f5490723a6",
   "metadata": {},
   "outputs": [
    {
     "name": "stdout",
     "output_type": "stream",
     "text": [
      "Content: \n",
      "Tool Call: [{'name': 'current_datetime', 'args': {}, 'id': 'call_saexBqPbsDMBRUxV1VFnQYZe', 'type': 'tool_call'}]\n"
     ]
    }
   ],
   "source": [
    "response = llm_with_tool.invoke(\"What is the current date?\")\n",
    "\n",
    "print(f\"Content: {response.content}\")\n",
    "print(f\"Tool Call: {response.tool_calls}\")"
   ]
  },
  {
   "cell_type": "code",
   "execution_count": 10,
   "id": "5816ce55-9e8b-4a17-aa5f-86ff3d69cb8e",
   "metadata": {},
   "outputs": [
    {
     "name": "stdout",
     "output_type": "stream",
     "text": [
      "==================================\u001b[1m Ai Message \u001b[0m==================================\n",
      "Tool Calls:\n",
      "  current_datetime (call_saexBqPbsDMBRUxV1VFnQYZe)\n",
      " Call ID: call_saexBqPbsDMBRUxV1VFnQYZe\n",
      "  Args:\n"
     ]
    }
   ],
   "source": [
    "response.pretty_print()"
   ]
  },
  {
   "cell_type": "markdown",
   "id": "f17b29d3-b1c1-4c31-97ce-ddf763b7aec6",
   "metadata": {},
   "source": [
    "## **Step 4 - Tool Call and Executing the Agent**"
   ]
  },
  {
   "cell_type": "code",
   "execution_count": 11,
   "id": "3970ce6d-117e-40ee-a822-f024b9e54610",
   "metadata": {},
   "outputs": [],
   "source": [
    "dict_with_tool_names = {\n",
    "    \"current_datetime\": current_datetime,\n",
    "}\n",
    "\n",
    "def custom_agent_executor(response):\n",
    "    if response.tool_calls:\n",
    "        for tool_calls in response.tool_calls:\n",
    "            tool_name = tool_calls[\"name\"]\n",
    "            tool_args = tool_calls[\"args\"]\n",
    "            tool_func = dict_with_tool_names[tool_name]\n",
    "            return tool_func.invoke(tool_args)\n",
    "    else:\n",
    "        return response.content"
   ]
  },
  {
   "cell_type": "code",
   "execution_count": 12,
   "id": "5e73b2ff-e892-4c4b-a5b1-bbce12ef5b44",
   "metadata": {},
   "outputs": [
    {
     "data": {
      "text/plain": [
       "'Hello! How can I assist you today?'"
      ]
     },
     "execution_count": 12,
     "metadata": {},
     "output_type": "execute_result"
    }
   ],
   "source": [
    "custom_agent_executor(llm_with_tool.invoke(\"Hi\"))"
   ]
  },
  {
   "cell_type": "code",
   "execution_count": 13,
   "id": "7c94fd7d-677e-4db0-90d2-e79f6b1ac088",
   "metadata": {},
   "outputs": [
    {
     "data": {
      "text/plain": [
       "'The current date and time is 2025-03-12 16:18:14'"
      ]
     },
     "execution_count": 13,
     "metadata": {},
     "output_type": "execute_result"
    }
   ],
   "source": [
    "custom_agent_executor(llm_with_tool.invoke(\"What is the time?\"))"
   ]
  },
  {
   "cell_type": "markdown",
   "id": "967e71ef-5f8b-403c-a5a1-8315254f21c5",
   "metadata": {},
   "source": [
    "# **A Better Implementation**"
   ]
  },
  {
   "cell_type": "markdown",
   "id": "d42f4de2-cab8-4d36-9a5b-490c893bd030",
   "metadata": {},
   "source": [
    "## **Step 1 - Init a LLM**"
   ]
  },
  {
   "cell_type": "code",
   "execution_count": 14,
   "id": "72b52c6d-aeba-4eab-b580-59d08c35e7bc",
   "metadata": {},
   "outputs": [],
   "source": [
    "from langchain_openai import ChatOpenAI\n",
    "\n",
    "f = open('keys/.openai_api_key.txt')\n",
    "OPENAI_API_KEY = f.read()\n",
    "\n",
    "llm = ChatOpenAI(openai_api_key=OPENAI_API_KEY,\n",
    "                 model=\"gpt-4o-mini\",\n",
    "                 temperature=0.0)"
   ]
  },
  {
   "cell_type": "markdown",
   "id": "1f910ede-6e86-44a4-80fb-57504e2fa4b7",
   "metadata": {},
   "source": [
    "## **Step 2 - Init a Tool**"
   ]
  },
  {
   "cell_type": "code",
   "execution_count": 15,
   "id": "91dd32c0-f764-405d-9321-96516e15960f",
   "metadata": {},
   "outputs": [
    {
     "data": {
      "text/plain": [
       "'2025-03-12 16:18:23'"
      ]
     },
     "execution_count": 15,
     "metadata": {},
     "output_type": "execute_result"
    }
   ],
   "source": [
    "from datetime import datetime\n",
    "\n",
    "def current_datetime() -> str:\n",
    "    \"\"\"This function tells the current date and time.\"\"\"\n",
    "    current_datetime = datetime.now().strftime(\"%Y-%m-%d %H:%M:%S\")\n",
    "    return f\"{current_datetime}\"\n",
    "\n",
    "current_datetime()"
   ]
  },
  {
   "cell_type": "code",
   "execution_count": 17,
   "id": "8c8403a3-5a0d-42e1-90f0-b568ee717542",
   "metadata": {},
   "outputs": [
    {
     "data": {
      "text/plain": [
       "{'people': [{'craft': 'ISS', 'name': 'Oleg Kononenko'},\n",
       "  {'craft': 'ISS', 'name': 'Nikolai Chub'},\n",
       "  {'craft': 'ISS', 'name': 'Tracy Caldwell Dyson'},\n",
       "  {'craft': 'ISS', 'name': 'Matthew Dominick'},\n",
       "  {'craft': 'ISS', 'name': 'Michael Barratt'},\n",
       "  {'craft': 'ISS', 'name': 'Jeanette Epps'},\n",
       "  {'craft': 'ISS', 'name': 'Alexander Grebenkin'},\n",
       "  {'craft': 'ISS', 'name': 'Butch Wilmore'},\n",
       "  {'craft': 'ISS', 'name': 'Sunita Williams'},\n",
       "  {'craft': 'Tiangong', 'name': 'Li Guangsu'},\n",
       "  {'craft': 'Tiangong', 'name': 'Li Cong'},\n",
       "  {'craft': 'Tiangong', 'name': 'Ye Guangfu'}],\n",
       " 'number': 12,\n",
       " 'message': 'success'}"
      ]
     },
     "execution_count": 17,
     "metadata": {},
     "output_type": "execute_result"
    }
   ],
   "source": [
    "import requests\n",
    "\n",
    "def people_in_space() -> dict:\n",
    "    \"\"\"This function returns the number and name of people in space.\"\"\"\n",
    "    response = requests.get(\"http://api.open-notify.org/astros.json\")\n",
    "    return response.json()\n",
    "\n",
    "people_in_space()"
   ]
  },
  {
   "cell_type": "markdown",
   "id": "e6033947-e070-4b85-8e6d-3809e494904d",
   "metadata": {},
   "source": [
    "## **Step 3 - Init an Agent**"
   ]
  },
  {
   "cell_type": "code",
   "execution_count": 18,
   "id": "787d9aef-5b9d-4b00-91f9-70077fff223e",
   "metadata": {},
   "outputs": [],
   "source": [
    "# ! pip install langgraph"
   ]
  },
  {
   "cell_type": "code",
   "execution_count": 19,
   "id": "8edf6247-740c-43a3-80eb-a91b3678db6b",
   "metadata": {},
   "outputs": [],
   "source": [
    "from langgraph.prebuilt import create_react_agent\n",
    "\n",
    "agent_executor = create_react_agent(model=llm, \n",
    "                                    tools=[current_datetime, people_in_space])"
   ]
  },
  {
   "cell_type": "code",
   "execution_count": 20,
   "id": "f8620a11-0847-4257-bbc9-185507aa843f",
   "metadata": {},
   "outputs": [
    {
     "data": {
      "image/png": "[encoded data removed]",
      "text/plain": [
       "<IPython.core.display.Image object>"
      ]
     },
     "metadata": {},
     "output_type": "display_data"
    }
   ],
   "source": [
    "from IPython.display import Image, display\n",
    "\n",
    "display(Image(agent_executor.get_graph().draw_mermaid_png()))"
   ]
  },
  {
   "cell_type": "markdown",
   "id": "0b6f5ac2-1274-4ded-abc1-ba652cc1f68b",
   "metadata": {},
   "source": [
    "**IMPORTANT:** Note that we are passing in the **llm**, not **llm_with_tools**. That is because **create_react_agent** will call **.bind_tools** for us under the hood."
   ]
  },
  {
   "cell_type": "markdown",
   "id": "171eafb6-6b0a-442d-893f-422bae809124",
   "metadata": {},
   "source": [
    "## **Step 4 - Execute the Agent**"
   ]
  },
  {
   "cell_type": "code",
   "execution_count": 21,
   "id": "91690b0b-8315-4323-961f-14e41b5b93a7",
   "metadata": {},
   "outputs": [
    {
     "name": "stdout",
     "output_type": "stream",
     "text": [
      "================================\u001b[1m Human Message \u001b[0m=================================\n",
      "\n",
      "Hi\n",
      "==================================\u001b[1m Ai Message \u001b[0m==================================\n",
      "\n",
      "Hello! How can I assist you today?\n"
     ]
    }
   ],
   "source": [
    "response = agent_executor.invoke({\"messages\": \"Hi\"})\n",
    "\n",
    "for msg in response[\"messages\"]:\n",
    "    msg.pretty_print()"
   ]
  },
  {
   "cell_type": "code",
   "execution_count": 22,
   "id": "4141ec38-20c8-49db-b3e4-6412f1c61d6f",
   "metadata": {},
   "outputs": [
    {
     "name": "stdout",
     "output_type": "stream",
     "text": [
      "================================\u001b[1m Human Message \u001b[0m=================================\n",
      "\n",
      "What is the time?\n",
      "==================================\u001b[1m Ai Message \u001b[0m==================================\n",
      "Tool Calls:\n",
      "  current_datetime (call_QXXk4NyG9eV5fwuyMJ7KKv6u)\n",
      " Call ID: call_QXXk4NyG9eV5fwuyMJ7KKv6u\n",
      "  Args:\n",
      "=================================\u001b[1m Tool Message \u001b[0m=================================\n",
      "Name: current_datetime\n",
      "\n",
      "2025-03-12 16:18:47\n",
      "==================================\u001b[1m Ai Message \u001b[0m==================================\n",
      "\n",
      "The current time is 16:18 (4:18 PM) on March 12, 2025.\n"
     ]
    }
   ],
   "source": [
    "response = agent_executor.invoke({\"messages\": \"What is the time?\"})\n",
    "\n",
    "for msg in response[\"messages\"]:\n",
    "    msg.pretty_print()"
   ]
  },
  {
   "cell_type": "markdown",
   "id": "2a494a67-14db-4ab4-b2ed-b76d150dedf7",
   "metadata": {},
   "source": [
    "## **Step 5 - Pretty Print**"
   ]
  },
  {
   "cell_type": "code",
   "execution_count": 23,
   "id": "ea91e7e1-7f3b-46e4-bdf6-fff92c7d76d5",
   "metadata": {},
   "outputs": [],
   "source": [
    "def printer(input_prompt):\n",
    "    for s in agent_executor.stream(input_prompt, stream_mode=\"values\"):\n",
    "        msg = s[\"messages\"][-1]\n",
    "        if isinstance(msg, tuple):\n",
    "            print(\"tuple:\", msg)\n",
    "        else:\n",
    "            msg.pretty_print()"
   ]
  },
  {
   "cell_type": "code",
   "execution_count": 24,
   "id": "d9fef8c4-c586-4bfd-b230-3034f3f45e60",
   "metadata": {},
   "outputs": [
    {
     "name": "stdout",
     "output_type": "stream",
     "text": [
      "================================\u001b[1m Human Message \u001b[0m=================================\n",
      "\n",
      "hi\n",
      "==================================\u001b[1m Ai Message \u001b[0m==================================\n",
      "\n",
      "Hello! How can I assist you today?\n"
     ]
    }
   ],
   "source": [
    "printer(input_prompt={\"messages\": \"hi\"})"
   ]
  },
  {
   "cell_type": "code",
   "execution_count": 25,
   "id": "4c46f76a-26a9-4db1-9b04-5a4e132335e0",
   "metadata": {},
   "outputs": [
    {
     "name": "stdout",
     "output_type": "stream",
     "text": [
      "================================\u001b[1m Human Message \u001b[0m=================================\n",
      "\n",
      "time?\n",
      "==================================\u001b[1m Ai Message \u001b[0m==================================\n",
      "Tool Calls:\n",
      "  current_datetime (call_bzIIlLfoqfZ5zK9nzZXB2rwv)\n",
      " Call ID: call_bzIIlLfoqfZ5zK9nzZXB2rwv\n",
      "  Args:\n",
      "=================================\u001b[1m Tool Message \u001b[0m=================================\n",
      "Name: current_datetime\n",
      "\n",
      "2025-03-12 16:18:52\n",
      "==================================\u001b[1m Ai Message \u001b[0m==================================\n",
      "\n",
      "The current date and time is March 12, 2025, at 16:18:52.\n"
     ]
    }
   ],
   "source": [
    "printer(input_prompt={\"messages\": \"time?\"})"
   ]
  },
  {
   "cell_type": "code",
   "execution_count": 26,
   "id": "a80f1183-c61f-48e5-ab80-8727f51eca58",
   "metadata": {},
   "outputs": [
    {
     "name": "stdout",
     "output_type": "stream",
     "text": [
      "================================\u001b[1m Human Message \u001b[0m=================================\n",
      "\n",
      "Can you tell me the names of all the people in space?\n",
      "==================================\u001b[1m Ai Message \u001b[0m==================================\n",
      "Tool Calls:\n",
      "  people_in_space (call_6KgplezpunGcKTDLHcGE1eZ9)\n",
      " Call ID: call_6KgplezpunGcKTDLHcGE1eZ9\n",
      "  Args:\n",
      "=================================\u001b[1m Tool Message \u001b[0m=================================\n",
      "Name: people_in_space\n",
      "\n",
      "{\"people\": [{\"craft\": \"ISS\", \"name\": \"Oleg Kononenko\"}, {\"craft\": \"ISS\", \"name\": \"Nikolai Chub\"}, {\"craft\": \"ISS\", \"name\": \"Tracy Caldwell Dyson\"}, {\"craft\": \"ISS\", \"name\": \"Matthew Dominick\"}, {\"craft\": \"ISS\", \"name\": \"Michael Barratt\"}, {\"craft\": \"ISS\", \"name\": \"Jeanette Epps\"}, {\"craft\": \"ISS\", \"name\": \"Alexander Grebenkin\"}, {\"craft\": \"ISS\", \"name\": \"Butch Wilmore\"}, {\"craft\": \"ISS\", \"name\": \"Sunita Williams\"}, {\"craft\": \"Tiangong\", \"name\": \"Li Guangsu\"}, {\"craft\": \"Tiangong\", \"name\": \"Li Cong\"}, {\"craft\": \"Tiangong\", \"name\": \"Ye Guangfu\"}], \"number\": 12, \"message\": \"success\"}\n",
      "==================================\u001b[1m Ai Message \u001b[0m==================================\n",
      "\n",
      "There are currently 12 people in space. Here are their names along with the spacecraft they are on:\n",
      "\n",
      "**International Space Station (ISS):**\n",
      "1. Oleg Kononenko\n",
      "2. Nikolai Chub\n",
      "3. Tracy Caldwell Dyson\n",
      "4. Matthew Dominick\n",
      "5. Michael Barratt\n",
      "6. Jeanette Epps\n",
      "7. Alexander Grebenkin\n",
      "8. Butch Wilmore\n",
      "9. Sunita Williams\n",
      "\n",
      "**Tiangong:**\n",
      "10. Li Guangsu\n",
      "11. Li Cong\n",
      "12. Ye Guangfu\n"
     ]
    }
   ],
   "source": [
    "printer(input_prompt={\"messages\": \"Can you tell me the names of all the people in space?\"})"
   ]
  },
  {
   "cell_type": "code",
   "execution_count": 27,
   "id": "3410a6fb-4a98-48f8-8c67-06a66262f450",
   "metadata": {},
   "outputs": [
    {
     "name": "stdout",
     "output_type": "stream",
     "text": [
      "================================\u001b[1m Human Message \u001b[0m=================================\n",
      "\n",
      "Is Sunita William in space?\n",
      "==================================\u001b[1m Ai Message \u001b[0m==================================\n",
      "Tool Calls:\n",
      "  people_in_space (call_16RyE71yYiKLjUkosAWvmDG9)\n",
      " Call ID: call_16RyE71yYiKLjUkosAWvmDG9\n",
      "  Args:\n",
      "=================================\u001b[1m Tool Message \u001b[0m=================================\n",
      "Name: people_in_space\n",
      "\n",
      "{\"people\": [{\"craft\": \"ISS\", \"name\": \"Oleg Kononenko\"}, {\"craft\": \"ISS\", \"name\": \"Nikolai Chub\"}, {\"craft\": \"ISS\", \"name\": \"Tracy Caldwell Dyson\"}, {\"craft\": \"ISS\", \"name\": \"Matthew Dominick\"}, {\"craft\": \"ISS\", \"name\": \"Michael Barratt\"}, {\"craft\": \"ISS\", \"name\": \"Jeanette Epps\"}, {\"craft\": \"ISS\", \"name\": \"Alexander Grebenkin\"}, {\"craft\": \"ISS\", \"name\": \"Butch Wilmore\"}, {\"craft\": \"ISS\", \"name\": \"Sunita Williams\"}, {\"craft\": \"Tiangong\", \"name\": \"Li Guangsu\"}, {\"craft\": \"Tiangong\", \"name\": \"Li Cong\"}, {\"craft\": \"Tiangong\", \"name\": \"Ye Guangfu\"}], \"number\": 12, \"message\": \"success\"}\n",
      "==================================\u001b[1m Ai Message \u001b[0m==================================\n",
      "\n",
      "Yes, Sunita Williams is currently in space aboard the International Space Station (ISS).\n"
     ]
    }
   ],
   "source": [
    "printer(input_prompt={\"messages\": \"Is Sunita William in space?\"})"
   ]
  }
 ],
 "metadata": {
  "kernelspec": {
   "display_name": "Python 3 (ipykernel)",
   "language": "python",
   "name": "python3"
  },
  "language_info": {
   "codemirror_mode": {
    "name": "ipython",
    "version": 3
   },
   "file_extension": ".py",
   "mimetype": "text/x-python",
   "name": "python",
   "nbconvert_exporter": "python",
   "pygments_lexer": "ipython3",
   "version": "3.9.6"
  }
 },
 "nbformat": 4,
 "nbformat_minor": 5
}
