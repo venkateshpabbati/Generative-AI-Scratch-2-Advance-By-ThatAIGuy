{
 "cells": [
  {
   "cell_type": "markdown",
   "id": "8f8b03a1-d1dd-42e8-8e49-39d8444a836e",
   "metadata": {},
   "source": [
    "# **Graph Workflows**\n",
    "\n",
    "## **What's Covered?**\n",
    "1. Sequential Graph\n",
    "2. Conditional Graph\n",
    "3. Conditional Looping Graph"
   ]
  },
  {
   "cell_type": "markdown",
   "id": "4353f77c-d79f-4598-aa03-8269b3de66da",
   "metadata": {},
   "source": [
    "## **Sequential Graph**"
   ]
  },
  {
   "cell_type": "code",
   "execution_count": 1,
   "id": "f3fbdfeb-222e-4df5-ac91-b1e256a629d0",
   "metadata": {},
   "outputs": [],
   "source": [
    "# Step 1: Defining a State\n",
    "from typing import TypedDict, List\n",
    "\n",
    "# Define a typed state\n",
    "class AgentState(TypedDict):\n",
    "    name: str\n",
    "    values: List[int]\n",
    "    response: str"
   ]
  },
  {
   "cell_type": "code",
   "execution_count": 2,
   "id": "a0eee076-6978-46e3-b1c6-224d0ef7952c",
   "metadata": {},
   "outputs": [],
   "source": [
    "# Step 2: Defining graph nodes\n",
    "\n",
    "def first_node(state: AgentState) -> AgentState:\n",
    "    \"\"\"This function greets the user.\"\"\"\n",
    "    state['response'] = f\"Hi {state['name']}\"\n",
    "    return state\n",
    "\n",
    "def second_node(state: AgentState) -> AgentState:\n",
    "    \"\"\"This function takes a list and return the sum of all the values.\"\"\"\n",
    "    state['response'] = state['response'] + f\"Sum of input list is {sum(state['values'])}.\"\n",
    "    return state"
   ]
  },
  {
   "cell_type": "code",
   "execution_count": 3,
   "id": "088904ac-4cb9-476e-ad24-a8e0c751afe8",
   "metadata": {},
   "outputs": [
    {
     "name": "stderr",
     "output_type": "stream",
     "text": [
      "/Users/kanavbansal/Developer/.env_jupyter/lib/python3.9/site-packages/urllib3/__init__.py:35: NotOpenSSLWarning: urllib3 v2 only supports OpenSSL 1.1.1+, currently the 'ssl' module is compiled with 'LibreSSL 2.8.3'. See: https://github.com/urllib3/urllib3/issues/3020\n",
      "  warnings.warn(\n"
     ]
    },
    {
     "data": {
      "text/plain": [
       "<langgraph.graph.state.StateGraph at 0x108bb1430>"
      ]
     },
     "execution_count": 3,
     "metadata": {},
     "output_type": "execute_result"
    }
   ],
   "source": [
    "# Step 3: Define a Graph\n",
    "\n",
    "from langgraph.graph import StateGraph\n",
    "\n",
    "graph = StateGraph(AgentState)\n",
    "\n",
    "graph.add_node(\"1st_node\", first_node)\n",
    "graph.add_node(\"2nd_node\", second_node)\n",
    "\n",
    "graph.set_entry_point(\"1st_node\")\n",
    "graph.add_edge(\"1st_node\", \"2nd_node\")\n",
    "graph.set_finish_point(\"2nd_node\")"
   ]
  },
  {
   "cell_type": "code",
   "execution_count": 4,
   "id": "28e2fcd8-4e72-4149-8828-7f70a132cba4",
   "metadata": {},
   "outputs": [
    {
     "data": {
      "text/plain": [
       "{'name': 'ThatAIGuy',\n",
       " 'values': [5, -1, 0, 2, 9],\n",
       " 'response': 'Hi ThatAIGuySum of input list is 15.'}"
      ]
     },
     "execution_count": 4,
     "metadata": {},
     "output_type": "execute_result"
    }
   ],
   "source": [
    "# Step 4: Compile the graph\n",
    "\n",
    "app = graph.compile()\n",
    "\n",
    "app.invoke({\"name\": \"ThatAIGuy\", \"values\": [5, -1, 0, 2, 9]})"
   ]
  },
  {
   "cell_type": "code",
   "execution_count": 5,
   "id": "4cc35ec6-c840-42d0-bcd2-7150bffc380a",
   "metadata": {},
   "outputs": [
    {
     "data": {
      "image/png": "[encoded data removed]",
      "text/plain": [
       "<IPython.core.display.Image object>"
      ]
     },
     "metadata": {},
     "output_type": "display_data"
    }
   ],
   "source": [
    "# Visualize the Graph\n",
    "\n",
    "from IPython.display import Image, display\n",
    "\n",
    "display(Image(app.get_graph().draw_mermaid_png()))"
   ]
  },
  {
   "cell_type": "markdown",
   "id": "1d484b27-761c-4039-8452-7f39eeff4137",
   "metadata": {},
   "source": [
    "## **Conditional Graph**"
   ]
  },
  {
   "cell_type": "code",
   "execution_count": 6,
   "id": "722b4ef4-bdd6-42f4-85f0-dfdf77846de2",
   "metadata": {},
   "outputs": [],
   "source": [
    "# Step 1: Defining a State\n",
    "from typing import TypedDict, List\n",
    "\n",
    "# Define a typed state\n",
    "class AgentState(TypedDict):\n",
    "    name: str\n",
    "    values: List[int]\n",
    "    operation: str\n",
    "    response: str"
   ]
  },
  {
   "cell_type": "code",
   "execution_count": 16,
   "id": "69e97eb9-f921-4547-b941-d1f1f474494c",
   "metadata": {},
   "outputs": [],
   "source": [
    "# Step 2: Defining graph nodes\n",
    "from functools import reduce\n",
    "\n",
    "def greet_node(state: AgentState) -> AgentState:\n",
    "    \"\"\"This function greets the user.\"\"\"\n",
    "    state['response'] = f\"Hi {state['name']}\"\n",
    "    return state\n",
    "\n",
    "def sum_node(state: AgentState) -> AgentState:\n",
    "    \"\"\"This function takes a list and return the sum of all the values.\"\"\"\n",
    "    state['response'] = state['response'] + f\"Sum of input list is {sum(state['values'])}.\"\n",
    "    return state\n",
    "\n",
    "def prod_node(state: AgentState) -> AgentState:\n",
    "    \"\"\"This function takes a list and return the product of all the values.\"\"\"\n",
    "    state['response'] = state['response'] + f\"Product of input list is {reduce(lambda x,y : x*y, state['values'])}.\"\n",
    "    return state\n",
    "\n",
    "def decision_node(state: AgentState) -> AgentState:\n",
    "    \"This function decides the next node in the graph\"\n",
    "    if state['operation'] == \"+\":\n",
    "        return \"addition_operation\"\n",
    "    elif state['operation'] == \"*\":\n",
    "        return \"product_operation\""
   ]
  },
  {
   "cell_type": "code",
   "execution_count": 17,
   "id": "11203ba5-d033-4956-826a-4301a7be816b",
   "metadata": {},
   "outputs": [
    {
     "data": {
      "text/plain": [
       "<langgraph.graph.state.StateGraph at 0x118138160>"
      ]
     },
     "execution_count": 17,
     "metadata": {},
     "output_type": "execute_result"
    }
   ],
   "source": [
    "# Step 3: Define a Graph\n",
    "\n",
    "from langgraph.graph import StateGraph, START, END\n",
    "\n",
    "graph = StateGraph(AgentState)\n",
    "\n",
    "graph.add_node(\"greeter\", greet_node)\n",
    "graph.add_node(\"add\", sum_node)\n",
    "graph.add_node(\"product\", prod_node)\n",
    "graph.add_node(\"router\", lambda state:state) # Passthrough\n",
    "\n",
    "graph.add_edge(START, \"greeter\")\n",
    "graph.add_edge(\"greeter\", \"router\")\n",
    "graph.add_conditional_edges(\n",
    "    \"router\",\n",
    "    decision_node,\n",
    "    {\n",
    "        \"addition_operation\": \"add\",\n",
    "        \"product_operation\": \"product\"\n",
    "    }\n",
    ")\n",
    "graph.add_edge(\"add\", END)\n",
    "graph.add_edge(\"product\", END)"
   ]
  },
  {
   "cell_type": "code",
   "execution_count": 19,
   "id": "e2aaeffe-02d4-4d84-89a3-0c08a46e5492",
   "metadata": {},
   "outputs": [],
   "source": [
    "# Step 4: Compile the graph\n",
    "\n",
    "app = graph.compile()"
   ]
  },
  {
   "cell_type": "code",
   "execution_count": 20,
   "id": "6fa560d2-65a6-4e11-bad5-951fc85437ef",
   "metadata": {},
   "outputs": [
    {
     "data": {
      "image/png": "[encoded data removed]",
      "text/plain": [
       "<IPython.core.display.Image object>"
      ]
     },
     "metadata": {},
     "output_type": "display_data"
    }
   ],
   "source": [
    "# Visualize the Graph\n",
    "\n",
    "from IPython.display import Image, display\n",
    "\n",
    "display(Image(app.get_graph().draw_mermaid_png()))"
   ]
  },
  {
   "cell_type": "code",
   "execution_count": 21,
   "id": "28bf0426-b577-4938-8c55-9add99afd96c",
   "metadata": {},
   "outputs": [
    {
     "data": {
      "text/plain": [
       "{'name': 'ThatAIGuy',\n",
       " 'values': [5, -1, 0, 2, 9],\n",
       " 'operation': '*',\n",
       " 'response': 'Hi ThatAIGuyProduct of input list is 0.'}"
      ]
     },
     "execution_count": 21,
     "metadata": {},
     "output_type": "execute_result"
    }
   ],
   "source": [
    "app.invoke({\"name\": \"ThatAIGuy\", \"values\": [5, -1, 0, 2, 9], \"operation\": \"*\"})"
   ]
  },
  {
   "cell_type": "code",
   "execution_count": 22,
   "id": "de4b2cc2-d3c6-4398-94cb-ab70780a7897",
   "metadata": {},
   "outputs": [
    {
     "data": {
      "text/plain": [
       "{'name': 'ThatAIGuy',\n",
       " 'values': [5, -1, 0, 2, 9],\n",
       " 'operation': '+',\n",
       " 'response': 'Hi ThatAIGuySum of input list is 15.'}"
      ]
     },
     "execution_count": 22,
     "metadata": {},
     "output_type": "execute_result"
    }
   ],
   "source": [
    "app.invoke({\"name\": \"ThatAIGuy\", \"values\": [5, -1, 0, 2, 9], \"operation\": \"+\"})"
   ]
  },
  {
   "cell_type": "markdown",
   "id": "e1614f07-f8a7-429d-a62d-c4d5e6f86f7e",
   "metadata": {},
   "source": [
    "## **Conditional Looping Graph**"
   ]
  },
  {
   "cell_type": "code",
   "execution_count": 23,
   "id": "32f1b16e-8a37-4c5b-8330-69a404b742f3",
   "metadata": {},
   "outputs": [],
   "source": [
    "from typing import TypedDict\n",
    "\n",
    "class AgentState(TypedDict):\n",
    "    name: str\n",
    "    number: List[int]\n",
    "    counter: int"
   ]
  },
  {
   "cell_type": "code",
   "execution_count": 29,
   "id": "468ecfec-3e22-4b2b-84a1-943cad5cc143",
   "metadata": {},
   "outputs": [],
   "source": [
    "import random\n",
    "\n",
    "def greeting_node(state: AgentState) -> AgentState:\n",
    "    \"\"\"Greeting Node which says hi to the person\"\"\"\n",
    "    state[\"name\"] = f\"Hi there, {state['name']}\"\n",
    "    state[\"counter\"] = 0 \n",
    "\n",
    "    return state\n",
    "\n",
    "def random_node(state: AgentState) -> AgentState:\n",
    "    \"\"\"Generates a random number from 0 to 10\"\"\"\n",
    "    state[\"number\"].append(random.randint(0, 10))\n",
    "    state[\"counter\"] += 1\n",
    "\n",
    "    return state\n",
    "\n",
    "\n",
    "def should_continue(state: AgentState) -> AgentState:\n",
    "    \"\"\"Function to decide what to do next\"\"\"\n",
    "    if state[\"counter\"] < 5:\n",
    "        print(\"ENTERING LOOP\", state[\"counter\"])\n",
    "        return \"loop\"  # Continue looping\n",
    "    else:\n",
    "        return \"exit\"  # Exit the loop\n"
   ]
  },
  {
   "cell_type": "code",
   "execution_count": 30,
   "id": "57fdaaaf-4dfb-476e-bb0b-84fb34d216ac",
   "metadata": {},
   "outputs": [],
   "source": [
    "graph = StateGraph(AgentState)\n",
    "\n",
    "graph.add_node(\"greeting\", greeting_node)\n",
    "graph.add_node(\"random\", random_node)\n",
    "graph.add_edge(\"greeting\", \"random\")\n",
    "\n",
    "\n",
    "graph.add_conditional_edges(\n",
    "    \"random\",     # Source node\n",
    "    should_continue, # Action\n",
    "    {\n",
    "        \"loop\": \"random\",  \n",
    "        \"exit\": END          \n",
    "    }\n",
    ")\n",
    "\n",
    "graph.set_entry_point(\"greeting\")\n",
    "\n",
    "app = graph.compile()\n"
   ]
  },
  {
   "cell_type": "code",
   "execution_count": 31,
   "id": "bf973220-c44a-43c1-b46b-8b859dafdf6c",
   "metadata": {},
   "outputs": [
    {
     "data": {
      "image/png": "[encoded data removed]",
      "text/plain": [
       "<IPython.core.display.Image object>"
      ]
     },
     "metadata": {},
     "output_type": "display_data"
    }
   ],
   "source": [
    "from IPython.display import Image, display\n",
    "display(Image(app.get_graph().draw_mermaid_png()))"
   ]
  },
  {
   "cell_type": "code",
   "execution_count": 32,
   "id": "d59ce101-74c2-48eb-a1db-bd3e6708f11a",
   "metadata": {},
   "outputs": [
    {
     "name": "stdout",
     "output_type": "stream",
     "text": [
      "ENTERING LOOP 1\n",
      "ENTERING LOOP 2\n",
      "ENTERING LOOP 3\n",
      "ENTERING LOOP 4\n"
     ]
    },
    {
     "data": {
      "text/plain": [
       "{'name': 'Hi there, ThatAIGuy', 'number': [6, 1, 6, 10, 0], 'counter': 5}"
      ]
     },
     "execution_count": 32,
     "metadata": {},
     "output_type": "execute_result"
    }
   ],
   "source": [
    "app.invoke({\"name\":\"ThatAIGuy\", \"number\":[], \"counter\":-100})"
   ]
  }
 ],
 "metadata": {
  "kernelspec": {
   "display_name": "Python 3 (ipykernel)",
   "language": "python",
   "name": "python3"
  },
  "language_info": {
   "codemirror_mode": {
    "name": "ipython",
    "version": 3
   },
   "file_extension": ".py",
   "mimetype": "text/x-python",
   "name": "python",
   "nbconvert_exporter": "python",
   "pygments_lexer": "ipython3",
   "version": "3.9.6"
  }
 },
 "nbformat": 4,
 "nbformat_minor": 5
}
