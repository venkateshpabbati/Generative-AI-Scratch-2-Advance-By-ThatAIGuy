{
 "cells": [
  {
   "cell_type": "code",
   "execution_count": 1,
   "id": "d6c24c34-ad63-4dab-be87-e319c4fea5c4",
   "metadata": {},
   "outputs": [
    {
     "name": "stderr",
     "output_type": "stream",
     "text": [
      "/Users/kanavbansal/Developer/.env_jupyter/lib/python3.9/site-packages/urllib3/__init__.py:35: NotOpenSSLWarning: urllib3 v2 only supports OpenSSL 1.1.1+, currently the 'ssl' module is compiled with 'LibreSSL 2.8.3'. See: https://github.com/urllib3/urllib3/issues/3020\n",
      "  warnings.warn(\n"
     ]
    }
   ],
   "source": [
    "# Step 1: Defining a State\n",
    "from typing import TypedDict, List, Union\n",
    "from langchain_core.messages import HumanMessage, AIMessage\n",
    "\n",
    "# Define a typed state\n",
    "class AgentState(TypedDict):\n",
    "    messages: List[Union[HumanMessage, AIMessage]]"
   ]
  },
  {
   "cell_type": "code",
   "execution_count": 4,
   "id": "5622de09-fd2f-432d-b8dc-fed35faa1696",
   "metadata": {},
   "outputs": [],
   "source": [
    "# Step 2: Defining graph nodes\n",
    "from langchain_openai import ChatOpenAI\n",
    "\n",
    "# Setup API Key\n",
    "f = open('keys/.openai_api_key.txt')\n",
    "OPENAI_API_KEY = f.read()\n",
    "\n",
    "# Set the OpenAI Key and initialize a ChatModel\n",
    "llm = ChatOpenAI(openai_api_key=OPENAI_API_KEY, model=\"gpt-4o\")\n",
    "\n",
    "def process(state: AgentState) -> AgentState:\n",
    "    \"\"\"This node will solve the request you input\"\"\"\n",
    "    response = llm.invoke(state[\"messages\"])\n",
    "\n",
    "    state[\"messages\"].append(AIMessage(content=response.content)) \n",
    "    print(f\"\\nAI: {response.content}\")\n",
    "    print(\"CURRENT STATE: \", state[\"messages\"])\n",
    "\n",
    "    return state"
   ]
  },
  {
   "cell_type": "code",
   "execution_count": 6,
   "id": "e732b1a7-fac7-46f8-9419-d763eebb9b07",
   "metadata": {},
   "outputs": [
    {
     "data": {
      "text/plain": [
       "<langgraph.graph.state.StateGraph at 0x11556e850>"
      ]
     },
     "execution_count": 6,
     "metadata": {},
     "output_type": "execute_result"
    }
   ],
   "source": [
    "# Step 3: Define a Graph\n",
    "\n",
    "from langgraph.graph import StateGraph, START, END\n",
    "\n",
    "graph = StateGraph(AgentState)\n",
    "\n",
    "graph.add_node(\"process\", process)\n",
    "\n",
    "graph.add_edge(START, \"process\")\n",
    "graph.add_edge(\"process\", END)"
   ]
  },
  {
   "cell_type": "code",
   "execution_count": 7,
   "id": "d77eca26-384d-4f68-869b-39ee025f780a",
   "metadata": {},
   "outputs": [],
   "source": [
    "# Step 4: Compile the graph\n",
    "\n",
    "agent = graph.compile()"
   ]
  },
  {
   "cell_type": "code",
   "execution_count": 8,
   "id": "66935342-ee65-41eb-a154-5635990c06a3",
   "metadata": {},
   "outputs": [
    {
     "data": {
      "image/png": "[encoded data removed]",
      "text/plain": [
       "<IPython.core.display.Image object>"
      ]
     },
     "metadata": {},
     "output_type": "display_data"
    }
   ],
   "source": [
    "# Visualize the Graph\n",
    "\n",
    "from IPython.display import Image, display\n",
    "\n",
    "display(Image(agent.get_graph().draw_mermaid_png()))"
   ]
  },
  {
   "cell_type": "code",
   "execution_count": 9,
   "id": "bc3d571a-d862-47c1-b716-d2cc3ef5f5a8",
   "metadata": {},
   "outputs": [
    {
     "name": "stdin",
     "output_type": "stream",
     "text": [
      "Enter:  hi, my name is ThatAIGuy.\n"
     ]
    },
    {
     "name": "stdout",
     "output_type": "stream",
     "text": [
      "\n",
      "AI: Hello, ThatAIGuy! How can I assist you today?\n",
      "CURRENT STATE:  [HumanMessage(content='hi, my name is ThatAIGuy.', additional_kwargs={}, response_metadata={}), AIMessage(content='Hello, ThatAIGuy! How can I assist you today?', additional_kwargs={}, response_metadata={})]\n"
     ]
    },
    {
     "name": "stdin",
     "output_type": "stream",
     "text": [
      "Enter:  can you tell me a joke?\n"
     ]
    },
    {
     "name": "stdout",
     "output_type": "stream",
     "text": [
      "\n",
      "AI: Sure! Why don't scientists trust atoms?\n",
      "\n",
      "Because they make up everything!\n",
      "CURRENT STATE:  [HumanMessage(content='hi, my name is ThatAIGuy.', additional_kwargs={}, response_metadata={}), AIMessage(content='Hello, ThatAIGuy! How can I assist you today?', additional_kwargs={}, response_metadata={}), HumanMessage(content='can you tell me a joke?', additional_kwargs={}, response_metadata={}), AIMessage(content=\"Sure! Why don't scientists trust atoms?\\n\\nBecause they make up everything!\", additional_kwargs={}, response_metadata={})]\n"
     ]
    },
    {
     "name": "stdin",
     "output_type": "stream",
     "text": [
      "Enter:  do you remember my name?\n"
     ]
    },
    {
     "name": "stdout",
     "output_type": "stream",
     "text": [
      "\n",
      "AI: Yes, you mentioned that your name is ThatAIGuy.\n",
      "CURRENT STATE:  [HumanMessage(content='hi, my name is ThatAIGuy.', additional_kwargs={}, response_metadata={}), AIMessage(content='Hello, ThatAIGuy! How can I assist you today?', additional_kwargs={}, response_metadata={}), HumanMessage(content='can you tell me a joke?', additional_kwargs={}, response_metadata={}), AIMessage(content=\"Sure! Why don't scientists trust atoms?\\n\\nBecause they make up everything!\", additional_kwargs={}, response_metadata={}), HumanMessage(content='do you remember my name?', additional_kwargs={}, response_metadata={}), AIMessage(content='Yes, you mentioned that your name is ThatAIGuy.', additional_kwargs={}, response_metadata={})]\n"
     ]
    },
    {
     "name": "stdin",
     "output_type": "stream",
     "text": [
      "Enter:  exit\n"
     ]
    }
   ],
   "source": [
    "conversation_history = []\n",
    "\n",
    "user_input = input(\"Enter: \")\n",
    "while user_input != \"exit\":\n",
    "    conversation_history.append(HumanMessage(content=user_input))\n",
    "    result = agent.invoke({\"messages\": conversation_history})\n",
    "    conversation_history = result[\"messages\"]\n",
    "    user_input = input(\"Enter: \")"
   ]
  },
  {
   "cell_type": "code",
   "execution_count": null,
   "id": "11cf73c9-901f-4cd0-89c8-d7aee7907b20",
   "metadata": {},
   "outputs": [],
   "source": []
  },
  {
   "cell_type": "code",
   "execution_count": null,
   "id": "1332541b-a707-4ca9-a9d8-b9615fd4db59",
   "metadata": {},
   "outputs": [],
   "source": []
  },
  {
   "cell_type": "code",
   "execution_count": null,
   "id": "e332ec2e-a437-46da-a48e-ca34270b1e8b",
   "metadata": {},
   "outputs": [],
   "source": []
  },
  {
   "cell_type": "code",
   "execution_count": null,
   "id": "f7e807f8-de92-465f-aea6-e195531062a1",
   "metadata": {},
   "outputs": [],
   "source": []
  }
 ],
 "metadata": {
  "kernelspec": {
   "display_name": "Python 3 (ipykernel)",
   "language": "python",
   "name": "python3"
  },
  "language_info": {
   "codemirror_mode": {
    "name": "ipython",
    "version": 3
   },
   "file_extension": ".py",
   "mimetype": "text/x-python",
   "name": "python",
   "nbconvert_exporter": "python",
   "pygments_lexer": "ipython3",
   "version": "3.9.6"
  }
 },
 "nbformat": 4,
 "nbformat_minor": 5
}
