{
 "cells": [
  {
   "cell_type": "markdown",
   "id": "d36bab1b-2938-40da-9078-e6da928276a1",
   "metadata": {},
   "source": [
    "# **Introduction to LangGraph**\n",
    "\n",
    "## **What's Covered?**\n",
    "1. What is LangGraph?\n",
    "2. Why is LangGraph powerful?\n",
    "3. Key Components of LangGraph\n",
    "    - State\n",
    "    - Node\n",
    "    - Edge\n",
    "    - Graph\n",
    "    - StateGraph\n",
    "5. Visualizing the Graph\n",
    "6. Graph with Multiple Inputs\n",
    "7. Summary\n",
    "\n",
    "## **What is LangGraph?**\n",
    "**LangGraph** is an open-source framework built on top of **LangChain**, designed to help you build **stateful, multi-step LLM applications as graphs**.\n",
    "\n",
    "It’s inspired by traditional computation graphs (like in Airflow or Ray) but optimized for LLM-first applications — think of workflows where the flow of execution is dynamic and dependent on LLM outputs, state, or external API responses.\n",
    "\n",
    "In short:\n",
    "LangGraph = LangChain + State Machine + Flow Control for LLM apps.\n",
    "\n",
    "Where LangChain focuses on creating modular chains (linear flows), LangGraph enables you to **Model applications as state machines or directed graphs**, where:\n",
    "- Nodes represent LLM calls, tools, or logic.\n",
    "- Edges represent transitions between nodes based on outcomes, conditions, or data.\n",
    "\n",
    "LangGraph is ideal for:\n",
    "1. Conversational agents with memory\n",
    "2. Complex workflows involving decision trees\n",
    "3. Multi-agent systems (e.g., agents that collaborate, debate, or vote)\n",
    "4. Retry logic, conditional steps, and loops\n",
    "\n",
    "LangGraph gives you fine-grained control over how your application progresses through each step, much like designing a flowchart—but for LLMs and tools.\n",
    "\n",
    "## **Why is LangGraph powerful?**\n",
    "\n",
    "| Feature                     | Benefit                                                              |\n",
    "| --------------------------- | -------------------------------------------------------------------- |\n",
    "| **Graph-based execution**   | Go beyond linear chains—support branching, looping, and conditionals |\n",
    "| **Stateful memory**         | Maintain memory or knowledge state between steps                     |\n",
    "| **Multi-agent workflows**   | Simulate collaboration or reasoning between AI agents                |\n",
    "| **Deterministic paths**     | Define exactly how your app flows based on output                    |\n",
    "| **LangChain compatibility** | Fully compatible with LangChain tools and components                 |\n",
    "| **Production-ready**        | Designed with retries, fallbacks, observability in mind              |"
   ]
  },
  {
   "cell_type": "markdown",
   "id": "7ab24412-0937-45d8-b968-fea34cebcc85",
   "metadata": {},
   "source": [
    "## **Key Components of LangGraph**\n",
    "1. State\n",
    "2. Node\n",
    "3. Edge\n",
    "4. Graph\n",
    "5. StateGraph\n",
    "\n",
    "### **1. State**\n",
    "State in LangGraph is a central shared dictionary (or object) that holds context as it moves through the graph.\n",
    "\n",
    "Each node can read from, modify, or add to the state."
   ]
  },
  {
   "cell_type": "code",
   "execution_count": 1,
   "id": "1391532b-f1f7-445b-8a6d-2982dc36deef",
   "metadata": {},
   "outputs": [],
   "source": [
    "from typing import TypedDict\n",
    "\n",
    "# Define a typed state\n",
    "class MyState(TypedDict):\n",
    "    user_message: str\n",
    "    response: str"
   ]
  },
  {
   "cell_type": "markdown",
   "id": "d0b8cf21-e930-4dcb-bc95-fb8f83c7b51f",
   "metadata": {},
   "source": [
    "### **2. Node**\n",
    "A node is a function (or LangChain component) that:\n",
    "- Accepts a state as input\n",
    "- Does something with it (e.g., call LLM, DB, tool)\n",
    "- Returns an updated state\n",
    "\n",
    "You can think of it as one step in your workflow."
   ]
  },
  {
   "cell_type": "code",
   "execution_count": 2,
   "id": "17b9c43e-5644-4fc0-b262-69393135c56b",
   "metadata": {},
   "outputs": [],
   "source": [
    "def respond_node(state: MyState) -> MyState:\n",
    "    user_query = state['user_message']\n",
    "    state['response'] = f\"I received your question: {user_query}\"\n",
    "    return state"
   ]
  },
  {
   "cell_type": "markdown",
   "id": "c918424b-6562-4ba0-b335-046f965d56f9",
   "metadata": {},
   "source": [
    "### **3. Edge**\n",
    "An edge connects one node to another. LangGraph supports:\n",
    "- Static edges: direct transitions\n",
    "- Conditional edges: choose next node based on logic or state"
   ]
  },
  {
   "cell_type": "markdown",
   "id": "a914f52d-b310-4f8d-b384-de6ee4914922",
   "metadata": {},
   "source": [
    "### **4. Graph**\n",
    "The Graph is the full computation DAG (Directed Acyclic Graph). It contains:\n",
    "- Nodes\n",
    "- Edges\n",
    "- State definition\n",
    "\n",
    "LangGraph uses StateGraph for this."
   ]
  },
  {
   "cell_type": "code",
   "execution_count": 3,
   "id": "4068954c-556b-466b-9d85-c815bde8504a",
   "metadata": {},
   "outputs": [
    {
     "name": "stderr",
     "output_type": "stream",
     "text": [
      "/Users/kanavbansal/Developer/.env_jupyter/lib/python3.9/site-packages/urllib3/__init__.py:35: NotOpenSSLWarning: urllib3 v2 only supports OpenSSL 1.1.1+, currently the 'ssl' module is compiled with 'LibreSSL 2.8.3'. See: https://github.com/urllib3/urllib3/issues/3020\n",
      "  warnings.warn(\n"
     ]
    },
    {
     "data": {
      "text/plain": [
       "<langgraph.graph.state.StateGraph at 0x103fa8730>"
      ]
     },
     "execution_count": 3,
     "metadata": {},
     "output_type": "execute_result"
    }
   ],
   "source": [
    "from langgraph.graph import StateGraph\n",
    "\n",
    "graph = StateGraph(MyState)\n",
    "\n",
    "graph.add_node(\"node\", respond_node)\n",
    "graph.set_entry_point(\"node\")\n",
    "graph.set_finish_point(\"node\")"
   ]
  },
  {
   "cell_type": "markdown",
   "id": "59199ce3-d823-4197-9c1f-fbc25a48d37b",
   "metadata": {},
   "source": [
    "### **5. StateGraph & Compiling**\n",
    "Once nodes and edges are added, you compile the graph and run it."
   ]
  },
  {
   "cell_type": "code",
   "execution_count": 4,
   "id": "5078ab75-e310-469a-8374-504203c05c8e",
   "metadata": {},
   "outputs": [
    {
     "data": {
      "text/plain": [
       "{'user_message': 'What is the time?',\n",
       " 'response': 'I received your question: What is the time?'}"
      ]
     },
     "execution_count": 4,
     "metadata": {},
     "output_type": "execute_result"
    }
   ],
   "source": [
    "app = graph.compile()\n",
    "\n",
    "app.invoke({\"user_message\": \"What is the time?\"})"
   ]
  },
  {
   "cell_type": "markdown",
   "id": "217d5475-bbf3-4823-aab6-70323cd65bcf",
   "metadata": {},
   "source": [
    "## **Visualizing the Graph**"
   ]
  },
  {
   "cell_type": "code",
   "execution_count": 5,
   "id": "e942b1ea-ab1a-4342-94cc-78905769006e",
   "metadata": {},
   "outputs": [
    {
     "data": {
      "image/png": "[encoded data removed]",
      "text/plain": [
       "<IPython.core.display.Image object>"
      ]
     },
     "metadata": {},
     "output_type": "display_data"
    }
   ],
   "source": [
    "from IPython.display import Image, display\n",
    "\n",
    "display(Image(app.get_graph().draw_mermaid_png()))"
   ]
  },
  {
   "cell_type": "markdown",
   "id": "31ddd601-bc59-4382-9c42-e067c40d47e5",
   "metadata": {},
   "source": [
    "## **Graph with Multiple Inputs**"
   ]
  },
  {
   "cell_type": "code",
   "execution_count": 6,
   "id": "23b03ecb-fb46-4d21-b0c8-fed1934a7902",
   "metadata": {},
   "outputs": [],
   "source": [
    "# Step 1: Defining a State\n",
    "from typing import TypedDict, List\n",
    "\n",
    "# Define a typed state\n",
    "class MyState(TypedDict):\n",
    "    name: str\n",
    "    values: List[int]\n",
    "    response: str"
   ]
  },
  {
   "cell_type": "code",
   "execution_count": 8,
   "id": "9c495246-8029-4c54-b0d5-0d92e68a5e3d",
   "metadata": {},
   "outputs": [],
   "source": [
    "# Step 2: Define a node\n",
    "\n",
    "def processor_node(state: MyState) -> MyState:\n",
    "    \"\"\"This function takes a list and return the sum of all the values.\"\"\"\n",
    "    state['response'] = f\"Hi {state['name']}, Sum of input list is {sum(state['values'])}.\"\n",
    "    return state"
   ]
  },
  {
   "cell_type": "code",
   "execution_count": 9,
   "id": "1399b250-7cb6-4e1e-852c-4ed2631475cc",
   "metadata": {},
   "outputs": [
    {
     "data": {
      "text/plain": [
       "<langgraph.graph.state.StateGraph at 0x122407df0>"
      ]
     },
     "execution_count": 9,
     "metadata": {},
     "output_type": "execute_result"
    }
   ],
   "source": [
    "# Step 3: Define a Graph\n",
    "\n",
    "from langgraph.graph import StateGraph\n",
    "\n",
    "graph = StateGraph(MyState)\n",
    "\n",
    "graph.add_node(\"node\", processor_node)\n",
    "graph.set_entry_point(\"node\")\n",
    "graph.set_finish_point(\"node\")"
   ]
  },
  {
   "cell_type": "code",
   "execution_count": 10,
   "id": "55d2d5f1-b484-44af-b848-013b9147914d",
   "metadata": {},
   "outputs": [
    {
     "data": {
      "text/plain": [
       "{'name': 'ThatAIGuy',\n",
       " 'values': [5, -1, 0, 2, 9],\n",
       " 'response': 'Hi ThatAIGuy, Sum of input list is 15.'}"
      ]
     },
     "execution_count": 10,
     "metadata": {},
     "output_type": "execute_result"
    }
   ],
   "source": [
    "# Step 4: Compile the graph\n",
    "\n",
    "app = graph.compile()\n",
    "\n",
    "app.invoke({\"name\": \"ThatAIGuy\", \"values\": [5, -1, 0, 2, 9]})"
   ]
  },
  {
   "cell_type": "code",
   "execution_count": 11,
   "id": "634b3be7-c4ef-460e-91e5-0af97ba2ba58",
   "metadata": {},
   "outputs": [
    {
     "data": {
      "image/png": "[encoded data removed]",
      "text/plain": [
       "<IPython.core.display.Image object>"
      ]
     },
     "metadata": {},
     "output_type": "display_data"
    }
   ],
   "source": [
    "# Visualize the Graph\n",
    "\n",
    "from IPython.display import Image, display\n",
    "\n",
    "display(Image(app.get_graph().draw_mermaid_png()))"
   ]
  },
  {
   "cell_type": "markdown",
   "id": "26d1bb80-072b-4ecd-a9da-cc4111b95f5e",
   "metadata": {},
   "source": [
    "## **Summary**\n",
    "\n",
    "| Component       | Description                                                                                                                |\n",
    "| --------------- | -------------------------------------------------------------------------------------------------------------------------- |\n",
    "| `Node`       | A function or LangChain component (e.g., Chain, Tool, Agent) that performs a task. Each node receives and returns a state. |\n",
    "| `Edge`       | A transition between nodes. Can be unconditional or conditional (based on output or state).                                |\n",
    "| `Graph`      | A combination of nodes + edges. Represents the full workflow.                                                              |\n",
    "| `State`      | A central dictionary that holds all context shared across nodes. Think of it like a memory store or a context object.      |\n",
    "| `StateGraph` | A special LangGraph class that helps you define, validate, and execute your graph logic with type-safe states.             |"
   ]
  }
 ],
 "metadata": {
  "kernelspec": {
   "display_name": "Python 3 (ipykernel)",
   "language": "python",
   "name": "python3"
  },
  "language_info": {
   "codemirror_mode": {
    "name": "ipython",
    "version": 3
   },
   "file_extension": ".py",
   "mimetype": "text/x-python",
   "name": "python",
   "nbconvert_exporter": "python",
   "pygments_lexer": "ipython3",
   "version": "3.9.6"
  }
 },
 "nbformat": 4,
 "nbformat_minor": 5
}
